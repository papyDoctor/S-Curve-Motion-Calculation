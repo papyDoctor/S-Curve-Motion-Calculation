{
 "cells": [
  {
   "cell_type": "markdown",
   "metadata": {},
   "source": [
    "# S-Curve motion (3rd order motion) calculation"
   ]
  },
  {
   "cell_type": "markdown",
   "metadata": {},
   "source": [
    "###### S-Curve calculation for stepper motors\n",
    "This paper shows a way to calculate the complete S-Curve motion without any iteration.\n",
    "\n",
    "S-Curve motion means that, given the speed, acceleration and hyper-acceleration (called jerk), given a starting and a ending point, the calculation results give a smooth motion: at any time the jerk is maintained under a given maximum. Also, the calculation gives the minimum travel time.\n",
    "\n",
    "During the travel, a S-Curve motion can take up to 7 phases. Depending of the parameters, the phases may be lowered until 4.\n",
    "\n"
   ]
  },
  {
   "cell_type": "code",
   "execution_count": 43,
   "metadata": {},
   "outputs": [
    {
     "data": {
      "application/javascript": [
       "IPython.OutputArea.prototype._should_scroll = function(lines) {\n",
       "    return false;\n",
       "}\n"
      ],
      "text/plain": [
       "<IPython.core.display.Javascript object>"
      ]
     },
     "metadata": {},
     "output_type": "display_data"
    }
   ],
   "source": [
    "%%javascript\n",
    "IPython.OutputArea.prototype._should_scroll = function(lines) {\n",
    "    return false;\n",
    "}"
   ]
  },
  {
   "cell_type": "code",
   "execution_count": 14,
   "metadata": {},
   "outputs": [],
   "source": [
    "import matplotlib.pyplot as plt\n",
    "import math\n",
    "import numpy as np\n",
    "from IPython.display import Image\n",
    "from IPython.core.display import HTML \n",
    "\n",
    "#size of plot\n",
    "plt.rcParams['figure.figsize']=(6,6)\n",
    "plt.rcParams['figure.dpi']=150"
   ]
  },
  {
   "cell_type": "markdown",
   "metadata": {},
   "source": [
    "# Intro\n",
    "In the remaining part of the document, **the half** of the complete travel is addressed. The other half is exactly the same movement but with jerk inverted.\n",
    "\n",
    "Assume the system can sustain a maximum jerk of $j_{max}$, the motor can have a maximal acceleration of $a_{max}$ and a maximum velocity of $v_{max}$. We suppose also that $x_{start}<x_{end}$. Let define also $x_{end/2}$ the half of the travel requested. \n",
    "\n",
    "There are several motion phases in this half travel movement:\n",
    "\n",
    "The first phase **PH1** is the acceleration motion, from rest, the acceleration raise from $0$ (at $t=0$) to $a_{max}$ at $t=t_0$, during this phase we have $j(t)=j_{max}$.\n",
    "\n",
    "The second phase **PH2** is the motion at maximum acceleration, during this phase we have $j(t)=0$, the end of this phase is noted $t_1$.\n",
    "\n",
    "The third phase **PH3** is the deceleration motion, during this phase we have $j(t)=-j_{max}$, the end of this phase is noted $t_2$.\n",
    "\n",
    "The fourth phase **PH4** is the one at constant speed $v(t)=v_{max}$ ($a(t)=0$) until we reach $x_{end/2}$.\n",
    "\n",
    "This is summarized in the following figure that represents the motion velocity:"
   ]
  },
  {
   "cell_type": "code",
   "execution_count": 15,
   "metadata": {},
   "outputs": [
    {
     "data": {
      "text/html": [
       "<img src=\"IM1.jpg\"/>"
      ],
      "text/plain": [
       "<IPython.core.display.Image object>"
      ]
     },
     "execution_count": 15,
     "metadata": {},
     "output_type": "execute_result"
    }
   ],
   "source": [
    "Image(url= \"IM1.jpg\")"
   ]
  },
  {
   "cell_type": "markdown",
   "metadata": {},
   "source": [
    "# Calculations\n",
    "The calculation must be aware that in some cases, the maximum velocity can't be reached. In the figure above, $x_{end}-x_{start}$ can be so small that **PH4** collapse completly. In this case, a new lower $v_{max}$ is calculated in order to make $x_{t2}$ the mid trvel point ($x_{end/2}$).\n",
    "\n",
    "Also it is possible that **PH2** collapse completly if the parameters are such that $a_{max}$ cannot be reached before $v_{max}$ is reached. In this case, a new lower $a_{max}$ is calculated in order to have $v_{max}$ at $x_{t0}$.\n",
    "\n",
    "Finally, it's possible that $a_{max}$ and can't be reached. In this case a new $a_{max}$ is calculated in order to complete the half travel without **PH2**.\n",
    "\n",
    "This is described here after."
   ]
  },
  {
   "cell_type": "markdown",
   "metadata": {},
   "source": [
    "# 1. $x_{end}$ big enough to have complete travel at $v_{max}$\n",
    "Here we have all the phases\n"
   ]
  },
  {
   "cell_type": "markdown",
   "metadata": {},
   "source": [
    "**For PH1** the movement equations are:\n",
    "$$\n",
    "\\begin{aligned}\n",
    "j(t) & = j_{max} \\\\\n",
    "a(t) & = j_{max}.t \\\\\n",
    "v(t) & = \\dfrac{j_{max}.t^2}{2}\\\\\n",
    "x(t) & = \\dfrac{j_{max}.t^3}{6}+x_{start}\\\\\n",
    "\\end{aligned}\n",
    "$$\n",
    "**For PH2**, the change is when $a=a_{max}$ then at $t=t_0=\\dfrac{a_{max}}{j_{max}}$, we have:\n",
    "$$\n",
    "\\begin{aligned}\n",
    "v_{t0} & = \\dfrac{j_{max}.t_0^2}{2}\\\\\n",
    "x_{t0} & = \\dfrac{j_{max}.t_0^3}{6}+x_{start}\n",
    "\\end{aligned}\n",
    "$$\n",
    "we note $t'=t-t_0$, the movement equations are:\n",
    "$$\n",
    "\\begin{aligned}\n",
    "j(t') & = 0 \\\\\n",
    "a(t') & = a_{max} \\\\\n",
    "v(t') & = a_{max}.t'+v_{t0}\\\\\n",
    "x(t') & = \\dfrac{a_{max}.t'^2}{2}+v_{t0}.t'+x_{t0}\\\\\n",
    "\\end{aligned}\n",
    "$$\n",
    "\n",
    "**For PH3**, let $t=t_1$, the change is when $v(t_1)=v_{max}-v_{t0}$ by symmetry. Hence $v_{t1}=v_{max}-\\dfrac{a_{max}^2}{2.j_{max}}$. At that time, we have also $v_{t1}=v_{t0}+a_{max}.(t_1-t_0)$, then we can calculate $t_1$, we have $t_1=\\dfrac{v_{max}}{a_{max}}$. At that point we also calculate $x(t_1)$, we have finally:\n",
    "$$\n",
    "\\begin{aligned}\n",
    "v_{t1} & = a_{max}.(t_1-t_0)+v_{t0}\\\\\n",
    "x_{t1} & = \\dfrac{a_{max}.(t_1-t_0)^2}{2}+v_{t0}.(t_1-t_0)+x_{t0}\\\\\n",
    "\\end{aligned}\n",
    "$$\n",
    "we note $t''=t-t_1$, the movement equations are:\n",
    "$$\n",
    "\\begin{aligned}\n",
    "j(t'') & = -j_{max} \\\\\n",
    "a(t'') & = -j_{max}.t''+a_{max} \\\\\n",
    "v(t'') & = \\dfrac{-j_{max}.t''^2}{2}+a_{max}.t''+v_{t1}\\\\\n",
    "x(t'') & = \\dfrac{-j_{max}.t''^3}{6}+\\dfrac{a_{max}.t''^2}{2}+v_{t1}.t''+x_{t1}\\\\\n",
    "\\end{aligned}\n",
    "$$\n",
    "**For PH4**, assume the change is at $t=t_2$, we have $t_2-t_1=t_0$ by symmetry. Hence $t_2=\\dfrac{a_{max}}{j_{max}}+\\dfrac{v_{max}}{a_{max}}$. At $t=t_2$ we have $v(t_2)=v_{max}$, we can calculate $x(t_2)=x_{t2}$:\n",
    "$$\n",
    "\\begin{aligned}\n",
    "v_{t2} & = v_{max}\\\\\n",
    "x_{t2} & = \\dfrac{-j_{max}.t_0^3}{6}+\\dfrac{a_{max}.t_0^2}{2}+v_{t1}.t_0+x_{t1}\\\\\n",
    "\\end{aligned}\n",
    "$$\n",
    "we note $t'''=t-t_2$, the movement equations are:\n",
    "$$\n",
    "\\begin{aligned}\n",
    "j(t''') & = 0 \\\\\n",
    "a(t''') & = 0 \\\\\n",
    "v(t''') & = v_{max}\\\\\n",
    "x(t''') & = v_{max}.t'''+x_{t2}\\\\\n",
    "\\end{aligned}\n",
    "$$"
   ]
  },
  {
   "cell_type": "markdown",
   "metadata": {},
   "source": [
    "# 2. $x_{end}-x_{start}$ not big enough reach $v_{max}$ during the (half) travel\n",
    "It remains the first three phases and we have to lower $v_{max}$ in order to have $x_{t2}=x_{end/2}$. Let's develop $x_{t2}$:\n",
    "$$\n",
    "\\begin{aligned}\n",
    "x_{t2} & = \\dfrac{-j_{max}.t_0^3}{6}+\\dfrac{a_{max}.t_0^2}{2}+v_{t1}.t_0+x_{t1}\\\\\n",
    "& = \\dfrac{-j_{max}.t_0^3}{6}+\\dfrac{a_{max}.t_0^2}{2}+(a_{max}.(t_1-t_0)+v_{t0}).t_0+\\dfrac{a_{max}.(t_1-t_0)^2}{2}+v_{t0}.(t_1-t_0)+x_{t0}\\\\\n",
    "& = \\dfrac{-j_{max}.t_0^3}{6}+\\dfrac{a_{max}.t_0^2}{2}+a_{max}.t_1.t_0-a_{max}.t_0^2+v_{t0}.t_0+\\dfrac{a_{max}.t_1^2}{2}-a_{max}.t_1.t_0+\\dfrac{a_{max}.t_0^2}{2}+v_{t0}.t_1-v_{t0}.t_0+x_{t0}\\\\\n",
    "& = \\dfrac{-j_{max}.t_0^3}{6}+\\dfrac{a_{max}.t_1^2}{2}+v_{t0}.t_1+x_{t0}\\\\\n",
    "& = \\dfrac{-j_{max}.t_0^3}{6}+\\dfrac{a_{max}.t_1^2}{2}+(\\dfrac{j_{max}.t_0^2}{2}).t_1+\\dfrac{j_{max}.t_0^3}{6}+x_{start}\\\\\n",
    "& = \\dfrac{a_{max}.t_1^2}{2}+\\dfrac{j_{max}.t_0^2.t_1}{2}+x_{start}\\\\\n",
    "& = \\dfrac{a_{max}.(\\dfrac{v_{max}}{a_{max}})^2}{2}+\\dfrac{j_{max}.(\\dfrac{a_{max}}{j_{max}})^2.\\dfrac{v_{max}}{a_{max}}}{2}+x_{start}\\\\\n",
    "& = \\dfrac{v_{max}^2}{2.a_{max}}+\\dfrac{a_{max}.v_{max}}{2.j_{max}}+x_{start}\\\\\n",
    "\\end{aligned}\n",
    "$$\n",
    "\n",
    "The purpose is to find $v_{max}$, function of the (half) travel $x_{end/2}$. The equation on $v_{max}$ to solve is\n",
    "\n",
    "$$\n",
    "\\begin{aligned}\n",
    "j_{max}.v_{max}^2+a_{max}^2.v_{max}+2.a_{max}.j_{max}.(x_{start}-x_{end/2})=0\n",
    "\\end{aligned}\n",
    "$$\n",
    "\n",
    "It's a second order equation, let's calculate the roots:\n",
    "$$\n",
    "\\begin{aligned}\n",
    "v_{max} & = \\frac{-a_{max}^2 \\pm \\sqrt{ a_{max}^4 + 8.a_{max}.j_{max}^2.(x_{end/2}-x_{start})}}{2.j_{max}}\\\\\n",
    "& = \\frac{-a_{max}^2 \\pm \\sqrt{ a_{max}^4.(1 + \\frac{8.j_{max}^2}{a_{max}^3}.(x_{end/2}-x_{start}))}}{2.j_{max}}\\\\\n",
    "& = \\frac{a_{max}^2}{2.j_{max}}.(\\mp \\sqrt{ (1 + \\frac{8.j_{max}^2}{a_{max}^3}.(x_{end/2}-x_{start}))}-1)\\\\\n",
    "\\end{aligned}\n",
    "$$\n",
    "In this equation, if $x_{end/2}\\ge x_{start}$ then $a_{max}\\ge 0$, hence the root is always positive and $\\ge1$. From the hypothesis in building the equation, $v_{max}$ must be $\\ge 0$, hence the final result is\n",
    "$$\n",
    "\\begin{aligned}\n",
    "v_{max} = \\frac{a_{max}^2}{2.j_{max}}.(\\sqrt{ (1 + \\frac{8.j_{max}^2}{a_{max}^3}.(x_{end/2}-x_{start}))}-1)\\\\\n",
    "\\end{aligned}\n",
    "$$"
   ]
  },
  {
   "cell_type": "markdown",
   "metadata": {},
   "source": [
    "# 3. $t1\\le t0$ (can't reach $a_{max}$)\n",
    "From the calculations, we have $t_0=\\dfrac{a_{max}}{j_{max}}$ and $t_1=\\dfrac{v_{max}}{a_{max}}$. Then to have at least $t1=t0$ we need to find a new lower $a_{max}$, we have:\n",
    "\n",
    "$$\n",
    "\\begin{aligned}\n",
    "a_{max}^2 & = v_{max}.j_{max}\\\\\n",
    "\\end{aligned}\n",
    "$$\n",
    "\n",
    "hence ($a_{max}>0$)\n",
    "\n",
    "$$\n",
    "\\begin{aligned}\n",
    "a_{max} & = \\sqrt{v_{max}.j_{max}}\\\\\n",
    "\\end{aligned}\n",
    "$$\n"
   ]
  },
  {
   "cell_type": "markdown",
   "metadata": {},
   "source": [
    "Let's calculate all this in python:"
   ]
  },
  {
   "cell_type": "code",
   "execution_count": 44,
   "metadata": {
    "scrolled": true
   },
   "outputs": [
    {
     "name": "stdout",
     "output_type": "stream",
     "text": [
      "jM = 30.0000\n",
      "aM = 3.0000\n",
      "vM = 1.0000\n",
      "t0 = 0.1000\n",
      "t1 = 0.3333\n",
      "t2 = 0.4333\n",
      "v_t0 = 0.1500\n",
      "x_t0 = 0.0050\n",
      "v_t1 = 0.8500\n",
      "x_t1 = 0.1217\n",
      "v_t2 = 1.0000\n",
      "x_t2 = 0.2167\n",
      "t_xend2 = 0.8167\n"
     ]
    },
    {
     "data": {
      "text/plain": [
       "Text(0.5, 1.0, 'j(t)')"
      ]
     },
     "execution_count": 44,
     "metadata": {},
     "output_type": "execute_result"
    },
    {
     "data": {
      "image/png": "[encoded data removed]",
      "text/plain": [
       "<Figure size 900x900 with 4 Axes>"
      ]
     },
     "metadata": {
      "needs_background": "light"
     },
     "output_type": "display_data"
    }
   ],
   "source": [
    "########################################################\n",
    "# Edit this:\n",
    "########################################################\n",
    "############## system/motor parameters (absolute values)  ################\n",
    "jM = 30     # m/s^3\n",
    "aM = 3     # m/s^2\n",
    "vM = 1  # m/s\n",
    "\n",
    "startX = 0\n",
    "endX2 = 0.6\n",
    "\n",
    "########################################################\n",
    "############### Calculations\n",
    "########################################################\n",
    "# 1. One time calculations\n",
    "t0 = aM / jM\n",
    "t1 = vM / aM\n",
    "# If t1<t0, then we have to lower aM in order to have at least t1=t0\n",
    "if t1 < t0:\n",
    "    aM = math.sqrt( vM*jM )\n",
    "    #recalculate t0/t1\n",
    "    t0 = aM / jM\n",
    "    t1 = vM / aM\n",
    "\n",
    "t2 = t0 + t1\n",
    "\n",
    "vt0 = jM*t0*t0/2\n",
    "xt0 = jM*t0*t0*t0/6 + startX\n",
    "\n",
    "vt1 = aM*(t1-t0) + vt0\n",
    "xt1 = aM*(t1-t0)*(t1-t0)/2 + vt0*(t1-t0) + xt0\n",
    "\n",
    "vt2 = vM\n",
    "xt2 = -jM*t0*t0*t0/6 + aM*t0*t0/2 + vt1*t0 + xt1\n",
    "\n",
    "#################\n",
    "# Let's detect if half travel (endX2) is >= xt2\n",
    "if endX2 >= xt2:\n",
    "    # Yes, let's calculate endtime via x(t) = vM*(t-t2) + xt2\n",
    "    endtime = t2 + (endX2-xt2) / vM\n",
    "else:\n",
    "    # No, let's calculate new vM:\n",
    "    vM = aM*aM/2/jM*(math.sqrt(1+8*jM*jM/(aM*aM*aM)*(endX2-startX))-1)\n",
    "    print(\"vMprocess = {:.4f}\".format( vM ))\n",
    "    # and recalculate the affected variables\n",
    "    t0 = aM / jM\n",
    "    t1 = vM / aM\n",
    "    # If t1<t0, then we have to lower aM in order to have at least t1=t0\n",
    "    if t1 < t0:\n",
    "        aM = math.sqrt( vM*jM )\n",
    "        #recalculate t0/t1\n",
    "        t0 = aM / jM\n",
    "        t1 = vM / aM    \n",
    "\n",
    "    t2 = t0 + t1\n",
    "    \n",
    "    vt0 = jM*t0*t0/2\n",
    "    xt0 = jM*t0*t0*t0/6 + startX\n",
    "\n",
    "    vt1 = aM*(t1-t0) + vt0\n",
    "    xt1 = aM*(t1-t0)*(t1-t0)/2 + vt0*(t1-t0) + xt0\n",
    "\n",
    "    vt2 = vM\n",
    "    xt2 = -jM*t0*t0*t0/6 + aM*t0*t0/2 + vt1*t0 + xt1\n",
    "    \n",
    "    endtime = t2 + (endX2-xt2) / vM\n",
    "    \n",
    "print(\"jM = {:.4f}\".format( jM )) \n",
    "print(\"aM = {:.4f}\".format( aM ))    \n",
    "print(\"vM = {:.4f}\".format( vM ))\n",
    "print(\"t0 = {:.4f}\".format( t0 )) \n",
    "print(\"t1 = {:.4f}\".format( t1 ))    \n",
    "print(\"t2 = {:.4f}\".format( t2 ))\n",
    "\n",
    "print(\"v_t0 = {:.4f}\".format( vt0 )) \n",
    "print(\"x_t0 = {:.4f}\".format( xt0 ))\n",
    "print(\"v_t1 = {:.4f}\".format( vt1 )) \n",
    "print(\"x_t1 = {:.4f}\".format( xt1 ))\n",
    "print(\"v_t2 = {:.4f}\".format( vt2 )) \n",
    "print(\"x_t2 = {:.4f}\".format( xt2 ))\n",
    "print(\"t_xend2 = {:.4f}\".format( endtime ))\n",
    "\n",
    "# 2. Recurrent calculations\n",
    "t = 0\n",
    "dt = 0.00002   #in second, discrete time tick unit, stepping simulator\n",
    "# Vectors for display\n",
    "xx=[]\n",
    "vv=[]\n",
    "aa=[]\n",
    "jj=[]\n",
    "time=[]\n",
    "\n",
    "#Curves\n",
    "while(t < endtime):\n",
    "    t = t + dt\n",
    "    time.append(t)\n",
    "    \n",
    "    if t<t0:\n",
    "        jj.append(jM)\n",
    "        aa.append(jM*t)\n",
    "        vv.append(jM*t*t/2)     \n",
    "        xx.append(jM*t*t*t/6+startX)\n",
    "    elif t<t1:\n",
    "        jj.append(0)\n",
    "        aa.append(aM)\n",
    "        vv.append(aM*(t-t0) + vt0)     \n",
    "        xx.append(aM*(t-t0)*(t-t0)/2 + vt0*(t-t0)+xt0) \n",
    "    elif t<t2:\n",
    "        jj.append(-jM)\n",
    "        aa.append(-jM*(t-t1) + aM)\n",
    "        vv.append(-jM*(t-t1)*(t-t1)/2 + aM*(t-t1) + vt1)     \n",
    "        xx.append(-jM*(t-t1)*(t-t1)*(t-t1)/6 + aM*(t-t1)*(t-t1)/2 + vt1*(t-t1) + xt1)\n",
    "    else:\n",
    "        jj.append(0)\n",
    "        aa.append(0)\n",
    "        vv.append(vM)     \n",
    "        xx.append(vM*(t-t2) + xt2)        \n",
    "        \n",
    "fig = plt.figure(constrained_layout=True)\n",
    "fig.suptitle('Half travel motion S-Curves', fontsize=16, y=1.04)\n",
    "gs = fig.add_gridspec(4, 1)\n",
    "\n",
    "f_ax1 = fig.add_subplot(gs[0, 0])\n",
    "f_ax2 = fig.add_subplot(gs[1, 0])\n",
    "f_ax3 = fig.add_subplot(gs[2, 0])\n",
    "f_ax4 = fig.add_subplot(gs[3, 0])\n",
    "\n",
    "f_ax1.grid(True)\n",
    "f_ax1.plot(time, xx)\n",
    "f_ax1.set_title('x(t)')\n",
    "\n",
    "f_ax2.grid(True)\n",
    "f_ax2.plot(time, vv)\n",
    "f_ax2.set_title('v(t)')\n",
    "\n",
    "f_ax3.grid(True)\n",
    "f_ax3.plot(time, aa)\n",
    "f_ax3.set_title('a(t)') \n",
    "\n",
    "f_ax4.grid(True)\n",
    "f_ax4.plot(time, jj)\n",
    "f_ax4.set_title('j(t)') "
   ]
  },
  {
   "cell_type": "code",
   "execution_count": null,
   "metadata": {},
   "outputs": [],
   "source": []
  },
  {
   "cell_type": "code",
   "execution_count": null,
   "metadata": {},
   "outputs": [],
   "source": []
  },
  {
   "cell_type": "code",
   "execution_count": null,
   "metadata": {},
   "outputs": [],
   "source": []
  }
 ],
 "metadata": {
  "kernelspec": {
   "display_name": "Python 3",
   "language": "python",
   "name": "python3"
  },
  "language_info": {
   "codemirror_mode": {
    "name": "ipython",
    "version": 3
   },
   "file_extension": ".py",
   "mimetype": "text/x-python",
   "name": "python",
   "nbconvert_exporter": "python",
   "pygments_lexer": "ipython3",
   "version": "3.6.9"
  }
 },
 "nbformat": 4,
 "nbformat_minor": 2
}
